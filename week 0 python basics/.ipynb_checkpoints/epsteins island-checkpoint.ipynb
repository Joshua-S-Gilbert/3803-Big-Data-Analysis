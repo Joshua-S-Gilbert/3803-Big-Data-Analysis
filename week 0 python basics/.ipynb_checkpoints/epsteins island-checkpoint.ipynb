{
 "cells": [
  {
   "cell_type": "code",
   "execution_count": 5,
   "id": "391ab56f-93e8-412e-b800-fe047ef381a3",
   "metadata": {},
   "outputs": [
    {
     "name": "stdout",
     "output_type": "stream",
     "text": [
      "hello epsteins island\n"
     ]
    }
   ],
   "source": [
    "print(\"hello epsteins island\")"
   ]
  },
  {
   "cell_type": "code",
   "execution_count": null,
   "id": "a6eb8c9f-cc15-4e87-9eaf-128db2cb7b27",
   "metadata": {},
   "outputs": [],
   "source": []
  }
 ],
 "metadata": {
  "kernelspec": {
   "display_name": "Python 3 (ipykernel)",
   "language": "python",
   "name": "python3"
  },
  "language_info": {
   "codemirror_mode": {
    "name": "ipython",
    "version": 3
   },
   "file_extension": ".py",
   "mimetype": "text/x-python",
   "name": "python",
   "nbconvert_exporter": "python",
   "pygments_lexer": "ipython3",
   "version": "3.11.7"
  }
 },
 "nbformat": 4,
 "nbformat_minor": 5
}
