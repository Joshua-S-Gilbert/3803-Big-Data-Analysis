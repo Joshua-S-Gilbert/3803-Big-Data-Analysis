{
 "cells": [
  {
   "cell_type": "code",
   "execution_count": 5,
   "metadata": {
    "colab": {
     "base_uri": "https://localhost:8080/",
     "height": 105
    },
    "executionInfo": {
     "elapsed": 290,
     "status": "error",
     "timestamp": 1709470131849,
     "user": {
      "displayName": "Minh Hiếu Nguyễn",
      "userId": "03728514655365313772"
     },
     "user_tz": -600
    },
    "id": "P8t19yNDV_DG",
    "outputId": "ea1d882b-238d-4853-889d-d40a47728e0c"
   },
   "outputs": [],
   "source": [
    "# Write a Python script to download IMDB 250 Top Rated Movies.\n",
    "# For each movie, you'll need to retrieve the movie title, the ranking, the initial release year, the casting and\n",
    "# the rating.\n",
    "# Your data must be stored in a proper imdb_top_250.csv file.\n",
    "\n",
    "import requests, csv, re\n",
    "from bs4 import BeautifulSoup\n",
    "import pandas as pd\n",
    "\n",
    "def get_movies(url):\n",
    "    user_agent = \"Mozilla/5.0 (Windows NT 10.0; Win64; x64) AppleWebKit/537.36 (KHTML, like Gecko) Chrome/121.0.6167.186 Safari/537.36\"\n",
    "    headers = {\"User-Agent\": user_agent}\n",
    "    \n",
    "    response = requests.get(url, headers=headers)\n",
    "    soup_imdb = BeautifulSoup(response.text, 'html.parser')\n",
    "    \n",
    "    all_movies = soup_imdb.find_all(\"li\", {\"class\":\"ipc-metadata-list-summary-item\"})\n",
    "\n",
    "    # would have been more efficient to put all of these in 1 for loop\n",
    "\n",
    "    \n",
    "    # get titles :\n",
    "    # i HATE pythons implementation of regex  \n",
    "    # movie title is found in 'h3' tags within the movie div, so thats all i need to search for here\n",
    "    titles = [re.search(r\" (.*)\", movie.find('h3').contents[0]).group()[1:] for movie in all_movies]\n",
    "\n",
    "    # get ranking :\n",
    "    # can use the same 'h3' tag since the ranking occures before the movie title\n",
    "    rankings = [re.search(r\"\\d*\", movie.find('h3').contents[0]).group() for movie in all_movies]\n",
    "    \n",
    "    # get release year :\n",
    "    years = [int(movie.find('span', 'sc-b0691f29-8 ilsLEX cli-title-metadata-item').contents[0]) for movie in all_movies]\n",
    "\n",
    "    # get rating :\n",
    "    # the rating was found in the aria-label attribute of a span. it was also found as a #text but grabbing it from\n",
    "    # the aria-label was easy enough\n",
    "    ratings = [float(re.search(r'\\d\\.\\d', movie.find('span', 'ipc-rating-star ipc-rating-star--base ipc-rating-star--imdb ratingGroup--imdb-rating').attrs['aria-label']).group()) for movie in all_movies]\n",
    "    d = {\"ranking\": rankings, \"title\": titles, \"year\": years, \"rating\": ratings}\n",
    "    df = pd.DataFrame(data=d)\n",
    "    df.to_csv('movies.csv')\n",
    "\n",
    "\n",
    "    #mega_list = list(zip(titles, rankings, years, ratings))\n",
    "    #mega_list = [list(elt) for elt in mega_list]\n",
    "\n",
    "    # Write csv\n",
    "    #str_lst = [f\"{mega_list[i][1]} / {mega_list[i][0]} ({mega_list[i][2]}) / Starring: {mega_list[i][3]}\" \\\n",
    "    #for i, val in enumerate(mega_list)]\n",
    "\n",
    "    #res = [elt.split(\"/\") for elt in str_lst]\n",
    "\n",
    "    #with open(\"imdb_top_250.csv\", \"w\") as f:\n",
    "        #writer = csv.writer(f, delimiter=\"-\")\n",
    "        #writer.writerows(res)\n",
    "def main():\n",
    "    url = \"https://www.imdb.com/chart/top\"\n",
    "    get_movies(url)\n",
    "\n",
    "\n",
    "if __name__ == \"__main__\":\n",
    "    main()"
   ]
  },
  {
   "cell_type": "code",
   "execution_count": null,
   "metadata": {
    "id": "4lWsqTtWV_DL"
   },
   "outputs": [],
   "source": []
  }
 ],
 "metadata": {
  "colab": {
   "provenance": []
  },
  "kernelspec": {
   "display_name": "Python 3 (ipykernel)",
   "language": "python",
   "name": "python3"
  },
  "language_info": {
   "codemirror_mode": {
    "name": "ipython",
    "version": 3
   },
   "file_extension": ".py",
   "mimetype": "text/x-python",
   "name": "python",
   "nbconvert_exporter": "python",
   "pygments_lexer": "ipython3",
   "version": "3.11.7"
  }
 },
 "nbformat": 4,
 "nbformat_minor": 4
}
